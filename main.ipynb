{
 "cells": [
  {
   "cell_type": "markdown",
   "metadata": {},
   "source": [
    "# Bank account fraud detection\n",
    "Daniel Mizrahi (10675418), Antonio La Chira Marquina (11847018)"
   ]
  },
  {
   "cell_type": "code",
   "execution_count": null,
   "metadata": {
    "scrolled": true
   },
   "outputs": [],
   "source": [
    "import numpy as np\n",
    "import pandas as pd\n",
    "import matplotlib.pyplot as plt\n",
    "\n",
    "\n",
    "from read_data import read_dataset"
   ]
  },
  {
   "cell_type": "markdown",
   "metadata": {},
   "source": [
    "## Parsing the data\n",
    "We first start off by reading in the data. Since some of the data is categorical and therefore non-numerical we must use one hot encoding to process the data and make sure this won't be a problem when implenting our classifiers. Altough perhaps marginal when converting categorical data we drop the first column so there is less data later on to perform calculations on. The original data without one hot encoding can be used to make conclusions about the data"
   ]
  },
  {
   "cell_type": "code",
   "execution_count": null,
   "metadata": {
    "scrolled": true
   },
   "outputs": [],
   "source": [
    "from read_data import read_dataset\n",
    "\n",
    "data_original = read_dataset('datasets/Base.csv', one_hot_encoding=False)\n",
    "data = read_dataset('datasets/Base.csv', one_hot_encoding=True, drop_first=True)"
   ]
  },
  {
   "cell_type": "code",
   "execution_count": null,
   "metadata": {
    "scrolled": true
   },
   "outputs": [],
   "source": [
    "print('Preview of the one hot encoded data in table form (first 10 rows and 4 columns):')\n",
    "print(data.head(10).iloc[:, :4])\n",
    "\n",
    "print(f'\\nOrignal data shape (rows, columns): {data_original.shape}')\n",
    "print(f'One hot encoded data shape (rows, columns): {data.shape}')"
   ]
  },
  {
   "cell_type": "code",
   "execution_count": null,
   "metadata": {
    "scrolled": true
   },
   "outputs": [],
   "source": [
    "# k = 'auto'\n",
    "k = 50\n",
    "\n",
    "categorical_data = ['payment_type', 'employment_status', 'housing_status', 'source', 'device_os']\n",
    "boolean_data = ['fraud_bool', 'email_is_free', 'phone_home_valid', 'phone_mobile_valid', 'has_other_cards', 'foreign_request', 'keep_alive_sessions', 'device_dinstinct_emails_8w', 'device_fraud_count']\n",
    "\n",
    "fig, axs = plt.subplots(16, 2, figsize=(16,100))\n",
    "column_names = list(data_original.columns.values)\n",
    "for column, ax in enumerate(axs.flat):\n",
    "    ax.set_xlabel(column_names[column])\n",
    "    ax.set_ylabel('Count')\n",
    "    if column_names[column] in boolean_data:\n",
    "        ax.hist(data_original.iloc[:, column], 2)\n",
    "    elif column_names[column] in categorical_data:\n",
    "        ax.hist(data_original.iloc[:, column], data_original.iloc[:, column].nunique())\n",
    "    else:\n",
    "        ax.hist(data_original.iloc[:, column], k)\n",
    "    if column_names[column] not in categorical_data + boolean_data:\n",
    "        mean = np.mean(data_original.iloc[:, column])\n",
    "        standard_deviation = np.std(data_original.iloc[:, column])\n",
    "        ax.axvline(mean, color='g')\n",
    "        if mean - standard_deviation > np.amin(data_original.iloc[:, column]):\n",
    "            ax.axvline(mean - standard_deviation, color='r')\n",
    "        ax.axvline(mean + standard_deviation, color='r')\n",
    "        ax.legend([f'mean (approx {round(mean, 2)})', f'standard deviation (approx {round(standard_deviation, 2)})'])"
   ]
  },
  {
   "cell_type": "code",
   "execution_count": null,
   "metadata": {
    "scrolled": false
   },
   "outputs": [],
   "source": [
    "# k = 'auto'\n",
    "k = 50\n",
    "\n",
    "categorical_data = ['payment_type', 'employment_status', 'housing_status', 'source', 'device_os']\n",
    "boolean_data = ['fraud_bool', 'email_is_free', 'phone_home_valid', 'phone_mobile_valid', 'has_other_cards', 'foreign_request', 'keep_alive_sessions', 'device_dinstinct_emails_8w', 'device_fraud_count']\n",
    "\n",
    "data_fraud = data_original.loc[data_original['fraud_bool'] == 1]\n",
    "data_no_fraud = data_original.loc[data_original['fraud_bool'] == 0]\n",
    "\n",
    "fig, axs = plt.subplots(16, 2, figsize=(16,100))\n",
    "column_names = list(data_original.columns.values)\n",
    "for column, ax in enumerate(axs.flat):\n",
    "    ax.set_xlabel(column_names[column])\n",
    "    ax.set_ylabel('Count')\n",
    "    if column_names[column] in boolean_data:\n",
    "        ax.hist(data_no_fraud.iloc[:, column], 2, label='No fraud')\n",
    "        ax.hist(data_fraud.iloc[:, column], 2, color='y', label='Fraud')\n",
    "    elif column_names[column] in categorical_data:\n",
    "        ax.hist(data_no_fraud.iloc[:, column], data_fraud.iloc[:, column].nunique(), label='No fraud')\n",
    "        ax.hist(data_fraud.iloc[:, column], data_fraud.iloc[:, column].nunique(), color='y', label='Fraud')\n",
    "    else:\n",
    "        ax.hist(data_no_fraud.iloc[:, column], k, label='No fraud')\n",
    "        ax.hist(data_fraud.iloc[:, column], k, color='y', label='Fraud')\n",
    "    ax.legend()\n",
    "    # Men moet uitzoeken hoe de legend hierboven gemerged kan worden met die in de if\n",
    "    if column_names[column] not in categorical_data + boolean_data:\n",
    "        _, labels = ax.get_legend_handles_labels()\n",
    "        mean = np.mean(data_fraud.iloc[:, column])\n",
    "        standard_deviation = np.std(data_fraud.iloc[:, column])\n",
    "        ax.axvline(mean, color='g')\n",
    "        if mean - standard_deviation > np.amin(data_fraud.iloc[:, column]):\n",
    "            ax.axvline(mean - standard_deviation, color='r')\n",
    "        ax.axvline(mean + standard_deviation, color='r')\n",
    "        ax.legend([f'mean (approx {round(mean, 2)})', f'standard deviation (approx {round(standard_deviation, 2)})'])"
   ]
  },
  {
   "cell_type": "code",
   "execution_count": null,
   "metadata": {
    "scrolled": true
   },
   "outputs": [],
   "source": []
  }
 ],
 "metadata": {
  "kernelspec": {
   "display_name": "Python 3",
   "language": "python",
   "name": "python3"
  },
  "language_info": {
   "codemirror_mode": {
    "name": "ipython",
    "version": 3
   },
   "file_extension": ".py",
   "mimetype": "text/x-python",
   "name": "python",
   "nbconvert_exporter": "python",
   "pygments_lexer": "ipython3",
   "version": "3.8.15"
  }
 },
 "nbformat": 4,
 "nbformat_minor": 5
}
